{
  "nbformat": 4,
  "nbformat_minor": 0,
  "metadata": {
    "colab": {
      "provenance": [],
      "authorship_tag": "ABX9TyPDoKrhofvcgInV48B5bis0",
      "include_colab_link": true
    },
    "kernelspec": {
      "name": "python3",
      "display_name": "Python 3"
    },
    "language_info": {
      "name": "python"
    }
  },
  "cells": [
    {
      "cell_type": "markdown",
      "metadata": {
        "id": "view-in-github",
        "colab_type": "text"
      },
      "source": [
        "<a href=\"https://colab.research.google.com/github/l24590562-cyber/PrecticaCodigoAscii/blob/main/Codigo_Ascii.ipynb\" target=\"_parent\"><img src=\"https://colab.research.google.com/assets/colab-badge.svg\" alt=\"Open In Colab\"/></a>"
      ]
    },
    {
      "cell_type": "code",
      "execution_count": 2,
      "metadata": {
        "colab": {
          "base_uri": "https://localhost:8080/"
        },
        "id": "G16gaemiZ8oG",
        "outputId": "6fd9035e-471d-4a23-b6ac-6f475e64aa7e"
      },
      "outputs": [
        {
          "output_type": "stream",
          "name": "stdout",
          "text": [
            "\n",
            "===== Conversor ASCII =====\n",
            "1. Texto a ASCII\n",
            "2. ASCII a Texto\n",
            "3. Salir\n",
            "Elige una opción: 2\n",
            "Ingresa códigos ASCII separados por espacios: 104 111 108 97\n",
            "Texto resultante: hola\n",
            "\n",
            "===== Conversor ASCII =====\n",
            "1. Texto a ASCII\n",
            "2. ASCII a Texto\n",
            "3. Salir\n",
            "Elige una opción: 3\n",
            "¡Adiós!\n"
          ]
        }
      ],
      "source": [
        "#Instituto Tecnológico de san Juan del Rio / Tecnológico Nacional de México\n",
        "#Brenda Avila Gutierrez\n",
        "#Ingenieria en Sistemas Computacionales\n",
        "#Estructura de datos\n",
        "#Grupo \"C\"\n",
        "#Practica 15,Codigo Ascii\n",
        "\n",
        "def texto_a_ascii(texto):\n",
        "    return [ord(c) for c in texto]\n",
        "\n",
        "def ascii_a_texto(codigos):\n",
        "    return ''.join(chr(c) for c in codigos)\n",
        "\n",
        "# ----- Menú del programa -----\n",
        "while True:\n",
        "    print(\"\\n===== Conversor ASCII =====\")\n",
        "    print(\"1. Texto a ASCII\")\n",
        "    print(\"2. ASCII a Texto\")\n",
        "    print(\"3. Salir\")\n",
        "    opcion = input(\"Elige una opción: \")\n",
        "\n",
        "    if opcion == \"1\":\n",
        "        texto = input(\"Ingresa un texto: \")\n",
        "        codigos = texto_a_ascii(texto)\n",
        "        print(\"Códigos ASCII:\", codigos)\n",
        "    elif opcion == \"2\":\n",
        "        codigos_str = input(\"Ingresa códigos ASCII separados por espacios: \")\n",
        "        try:\n",
        "            codigos = [int(c) for c in codigos_str.split()]\n",
        "            texto = ascii_a_texto(codigos)\n",
        "            print(\"Texto resultante:\", texto)\n",
        "        except ValueError:\n",
        "            print(\"Error: debes ingresar solo números separados por espacios.\")\n",
        "    elif opcion == \"3\":\n",
        "        print(\"¡Adiós!\")\n",
        "        break\n",
        "    else:\n",
        "        print(\"Opción inválida, intenta de nuevo.\")\n",
        "\n"
      ]
    }
  ]
}